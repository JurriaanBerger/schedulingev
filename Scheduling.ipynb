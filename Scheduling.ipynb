{
  "nbformat": 4,
  "nbformat_minor": 0,
  "metadata": {
    "colab": {
      "name": "Scheduling.ipynb",
      "provenance": [],
      "toc_visible": true
    },
    "kernelspec": {
      "name": "python3",
      "display_name": "Python 3"
    },
    "language_info": {
      "name": "python"
    }
  },
  "cells": [
    {
      "cell_type": "markdown",
      "source": [
        "#Scheduling electrical vehicles that travel a segment on a single road\n",
        "\n",
        "Accompanying code to the thesis of Jurriaan Berger, under supervision of Matus Mihalak."
      ],
      "metadata": {
        "id": "m0SRmPVU-kwx"
      }
    },
    {
      "cell_type": "code",
      "source": [
        "!pip install ortools\n",
        "from ortools.graph import pywrapgraph"
      ],
      "metadata": {
        "id": "sgHP1ePpBOSL"
      },
      "execution_count": null,
      "outputs": []
    },
    {
      "cell_type": "code",
      "source": [
        "import numpy as np\n",
        "import time\n",
        "import pickle"
      ],
      "metadata": {
        "id": "eZ2tqzxK_JUS"
      },
      "execution_count": 1,
      "outputs": []
    },
    {
      "cell_type": "code",
      "source": [
        "#Relative load per road segment, based on 24hrs:\n",
        "rel_load = [0.16, 0.12, 0.15, 0.13, 0.11, 0.06, 0.07, 0.06, 0.09, 0.07]\n",
        "\n",
        "#Total number of charging stations:\n",
        "total_stations = 170\n",
        "\n",
        "#Number of charging stations per road segment:\n",
        "segment_stations = [int(r*total_stations) for r in rel_load]\n",
        "\n",
        "unique_rel_dates = 96\n",
        "max_completion_time = 20\n",
        "max_schedule_length = unique_rel_dates+max_completion_time\n",
        "max_trip_length = len(rel_load)"
      ],
      "metadata": {
        "id": "v-H1JpznB2Ub"
      },
      "execution_count": 134,
      "outputs": []
    },
    {
      "cell_type": "markdown",
      "source": [
        "##Loading Data and generate trips"
      ],
      "metadata": {
        "id": "HkVzhXFi-8xh"
      }
    },
    {
      "cell_type": "code",
      "execution_count": 3,
      "metadata": {
        "id": "KmxYo9vX-juY"
      },
      "outputs": [],
      "source": [
        "# Read in the file that contains the traffic flow for every 25 km, every 15 minutes\n",
        "with open(\"traffic_flow.csv\", encoding='utf-8-sig') as file_name:\n",
        "    array = np.loadtxt(file_name, delimiter=\";\")"
      ]
    },
    {
      "cell_type": "code",
      "source": [
        "# In case you only want to run the algorithms for a smaller timeframe, run this code cell\n",
        "new_array = np.array(array)\n",
        "array = new_array[0:10,20:30]\n",
        "array = array.astype(int)"
      ],
      "metadata": {
        "id": "7Qi9yh_M_mSC"
      },
      "execution_count": null,
      "outputs": []
    },
    {
      "cell_type": "code",
      "source": [
        "# Take only 10% of the traffic flow\n",
        "capacity = array/10\n",
        "capacity = capacity.astype(int)"
      ],
      "metadata": {
        "id": "kn4az4VF_YoS"
      },
      "execution_count": 4,
      "outputs": []
    },
    {
      "cell_type": "code",
      "source": [
        "# Generate the trips\n",
        "# In the following way: start a trip at t=0, s=0, take one from the capacity at this time-space\n",
        "# Repeat for this trip at t+1,s+1, untill the end of the road is reached or there is a time-space point that has no capacity anymore\n",
        "# Continue until there is no capacity at t=0, s=0, then go to t=0, s=1\n",
        "# Until all time-space points are visited and the left-over capacity is 0 everywhere\n",
        "\n",
        "trips = {}\n",
        "trip_counter = 0\n",
        "\n",
        "for i in range(len(capacity)):\n",
        "  for j in range(len(capacity[0])):\n",
        "    while capacity[i][j] > 0:\n",
        "\n",
        "      begin = [i,j]\n",
        "      end = [i,j]\n",
        "      capacity[i][j]-=1\n",
        "      length = 1\n",
        "      bi = i+1\n",
        "      bj = j+1\n",
        "\n",
        "      while bi < len(capacity) and bj < len(capacity[0]) and capacity[bi][bj]>0:\n",
        "        capacity[bi][bj]-=1\n",
        "        end = [bi,bj]\n",
        "        length+=1\n",
        "        bi+=1\n",
        "        bj+=1\n",
        "        \n",
        "      trips[trip_counter] = {}\n",
        "      trips[trip_counter]['rel_date'] = j\n",
        "      trips[trip_counter]['start_seg'] = i\n",
        "      trips[trip_counter]['final_seg'] = bi-1\n",
        "      trips[trip_counter]['length']=length\n",
        "\n",
        "      trip_counter+=1\n",
        "\n",
        "print('Created',trip_counter,'trips')\n"
      ],
      "metadata": {
        "id": "eP_fuupD__Id"
      },
      "execution_count": null,
      "outputs": []
    },
    {
      "cell_type": "code",
      "source": [
        "#Store the trips as separate file, for re-use\n",
        "\n",
        "a_file = open(\"data.pkl\", \"wb\")\n",
        "pickle.dump(trips, a_file)\n",
        "a_file.close()"
      ],
      "metadata": {
        "id": "HXCSObSUBB-m"
      },
      "execution_count": 6,
      "outputs": []
    },
    {
      "cell_type": "code",
      "source": [
        "# Load trips from file if required\n",
        "\n",
        "a_file = open(\"data.pkl\", \"rb\")\n",
        "trips = pickle.load(a_file)\n",
        "print(len(trips))"
      ],
      "metadata": {
        "id": "GXDJolquBZqW"
      },
      "execution_count": null,
      "outputs": []
    },
    {
      "cell_type": "markdown",
      "source": [
        "## Setup the graph for the minimum cost flow problem"
      ],
      "metadata": {
        "id": "8aRFOhHbBTXB"
      }
    },
    {
      "cell_type": "code",
      "source": [
        "n = len(trips) #number of jobs\n",
        "\n",
        "m = segment_stations      #number of machines per segment, this\n",
        "\n",
        "c = max_completion_time   #max completion time\n",
        "r = unique_rel_dates      #number of distinct release dates\n",
        "l = max_trip_length       #max trip length \n",
        "rc = r + c + l - 2        #the number of timeslots for every machine\n",
        "\n",
        "#Graph structure:\n",
        "#source > jobs > timeslots (only edges to reachable timeslots, regarding time and space) > sink"
      ],
      "metadata": {
        "id": "9zTmY0DrBk5E"
      },
      "execution_count": 135,
      "outputs": []
    },
    {
      "cell_type": "code",
      "source": [
        "#START NODES\n",
        "\n",
        "#an edge from the source to every job \n",
        "start_source = np.array(np.zeros(n).astype(int)).tolist()\n",
        "\n",
        "#an edge from every job to all possible timeslots (for every segment, number of machines*)\n",
        "start_jobs = []\n",
        "\n",
        "cnt = 0\n",
        "\n",
        "for t in trips:\n",
        "  cnt+=1\n",
        "  if cnt%500 is 0:\n",
        "    print(cnt)\n",
        "\n",
        "  t_start = []\n",
        "  for i in range(trips[t]['start_seg'],trips[t]['final_seg']+1):\n",
        "    t_start = np.append(t_start,np.ones(m[i]*c)*(t+1))\n",
        "  \n",
        "  lt_start = t_start.astype(int).tolist()\n",
        "  start_jobs.extend(lt_start)\n",
        "    \n",
        "#an edge from all possible timeslots to the sink\n",
        "start_ts = list(range(n+1,n+1+sum(m)*rc))"
      ],
      "metadata": {
        "id": "LEY_72cPCuPk"
      },
      "execution_count": null,
      "outputs": []
    },
    {
      "cell_type": "code",
      "source": [
        "#END NODES\n",
        "\n",
        "#an edge from the source to every job\n",
        "end_source = list(range(1,n+1))\n",
        "\n",
        "#an edge from every job to all allowed timeslots\n",
        "end_jobs = []\n",
        "cnt=0\n",
        "\n",
        "for t in trips:\n",
        "  cnt+=1\n",
        "  if cnt%500 is 0: \n",
        "    print(cnt)\n",
        "\n",
        "  ts_before_segment = 0\n",
        "  for k in range(0,trips[t]['start_seg']): ts_before_segment+=(m[k]*rc)-1 \n",
        "  \n",
        "  for i in range(trips[t]['start_seg'],trips[t]['final_seg']+1):\n",
        "    arr_times = []\n",
        "    \n",
        "    for j in range(m[i]):                               #for all machines (hence the +j*rc)\n",
        "      arr_times.extend(list(range(i+j*rc,(i+j*rc)+c)))  #for a machines in the segment, only at the allowed arrival times: \n",
        "                                                        #(0,1,...,max_completion time) for the first charging station\n",
        "                                                        #(1,2,...,max_completion time+travel_distance) for the second charging station, etc.\n",
        "    \n",
        "    arr_times = [a + int(trips[t]['rel_date'])    #add the release date\n",
        "                 + ts_before_segment              #increase by the number of timeslots on all previous machines\n",
        "                 + n+1                            #increase by the number of jobs (to account for the numbers taken by the other nodes)\n",
        "                 for a in arr_times] \n",
        "    \n",
        "    ts_before_segment += m[i]*rc\n",
        "    end_jobs.extend(arr_times)\n",
        "\n",
        "if(len(end_jobs) - len(start_jobs) is not 0): print('Different number of start/end points for jobs, problem!',len(end_jobs),len(start_jobs))\n",
        "\n",
        "#an edge from all possible timeslots to the sink\n",
        "end_ts = np.ones(len(start_ts))*(max(start_ts)+1)\n",
        "end_ts = end_ts.astype(int).tolist()"
      ],
      "metadata": {
        "id": "24puQ_GLDDOP"
      },
      "execution_count": null,
      "outputs": []
    },
    {
      "cell_type": "code",
      "source": [
        "#CAPACITIES (one for all edges)\n",
        "\n",
        "cap_source = np.array(np.ones(n).astype(int)).tolist()\n",
        "cap_jobs = np.array(np.ones(len(start_jobs)).astype(int)).tolist()\n",
        "cap_ts = np.array(np.ones(len(start_ts)).astype(int)).tolist()"
      ],
      "metadata": {
        "id": "SafQBHc6DPhu"
      },
      "execution_count": 138,
      "outputs": []
    },
    {
      "cell_type": "code",
      "source": [
        "#COSTS\n",
        "\n",
        "#Cost = 1 for all edges from source\n",
        "cost_source = np.array(np.zeros(n).astype(int)).tolist()\n",
        "\n",
        "#Cost = waiting time for jobs = 1,2,3,4,...,10 to every machine\n",
        "cost_jobs = []\n",
        "\n",
        "for t in trips:\n",
        "  for i in range(trips[t]['start_seg'],trips[t]['final_seg']+1):\n",
        "    for j in range(m[i]):\n",
        "      cost_jobs.extend(list(range(1,c+1)))\n",
        "\n",
        "#Cost = 1 for all edges from timeslots to sink\n",
        "cost_ts = np.array(np.zeros(len(start_ts)).astype(int)).tolist()"
      ],
      "metadata": {
        "id": "n_95LxW1DR8g"
      },
      "execution_count": 139,
      "outputs": []
    },
    {
      "cell_type": "code",
      "source": [
        "#SUPPLIES\n",
        "\n",
        "supplies = [n]\n",
        "\n",
        "no_supplies = np.array(np.zeros(end_ts[0]-1).astype(int)).tolist()\n",
        "supplies.extend(no_supplies)\n",
        "supplies.append(-n)"
      ],
      "metadata": {
        "id": "C7QzkIuyDnEA"
      },
      "execution_count": 140,
      "outputs": []
    },
    {
      "cell_type": "code",
      "source": [
        "# Decoder for vertices (not required):\n",
        "\n",
        "node_to_timeslot = {}\n",
        "\n",
        "segment = 0\n",
        "slots_prev_segment = 0\n",
        "slots_this_segment = m[segment]*rc+slots_prev_segment\n",
        "\n",
        "for t in sorted(set(end_jobs)):\n",
        "  timeslot = t-(n+1) # subtract the number of nodes that were used by the source and job nodes  \n",
        "  \n",
        "  if(slots_prev_segment <= timeslot < slots_this_segment): this_segment=segment #print('timeslot',timeslot,'in segment',segment)\n",
        "  else:\n",
        "    slots_prev_segment = slots_this_segment\n",
        "    segment +=1\n",
        "    slots_this_segment = m[segment]*rc+slots_prev_segment\n",
        "\n",
        "    this_segment=segment\n",
        "    \n",
        "  this_machine = int((timeslot-slots_prev_segment)/rc)  \n",
        "  this_time = timeslot%rc #for all machines there is a constant number of timeslots per machine\n",
        "\n",
        "  print('t:',t,'timeslot:',timeslot)\n",
        "  print('segment', this_segment, 'machine', this_machine,'time', this_time)\n",
        "  timeslot_loc = {'segment': this_segment, 'machine': this_machine,'time': this_time}\n",
        "  node_to_timeslot[t]=timeslot_loc"
      ],
      "metadata": {
        "id": "DIs5xqg2DsNZ"
      },
      "execution_count": null,
      "outputs": []
    },
    {
      "cell_type": "markdown",
      "source": [
        "## LP solver minimum cost flow problem\n",
        "\n",
        "Based on: https://developers.google.com/optimization/flow/assignment_min_cost_flow"
      ],
      "metadata": {
        "id": "Q5IBcnE7D8zB"
      }
    },
    {
      "cell_type": "code",
      "source": [
        "# Instantiate a SimpleMinCostFlow solver.\n",
        "min_cost_flow = pywrapgraph.SimpleMinCostFlow()"
      ],
      "metadata": {
        "id": "NZzaxVzFEBBP"
      },
      "execution_count": 141,
      "outputs": []
    },
    {
      "cell_type": "code",
      "source": [
        "# Define the directed graph for the flow. (Get this from the data automatically, see below)\n",
        "start_nodes = start_source + start_jobs + start_ts\n",
        "end_nodes = end_source + end_jobs + end_ts\n",
        "capacities = cap_source + cap_jobs + cap_ts\n",
        "costs = (cost_source + cost_jobs + cost_ts)\n",
        "\n",
        "source = 0\n",
        "sink = end_ts[0]\n",
        "tasks = n\n",
        "supplies = supplies #defined in section above"
      ],
      "metadata": {
        "id": "XKmtTjfZEEBZ"
      },
      "execution_count": 142,
      "outputs": []
    },
    {
      "cell_type": "code",
      "source": [
        "# Add each arc.\n",
        "cnt=0\n",
        "\n",
        "for i in range(len(start_nodes)):\n",
        "    cnt+=1\n",
        "    if cnt%100000 is 0: print(cnt)\n",
        "    min_cost_flow.AddArcWithCapacityAndUnitCost(start_nodes[i],\n",
        "                                                end_nodes[i], capacities[i],\n",
        "                                                costs[i])\n",
        "\n",
        "# Add node supplies.\n",
        "for i in range(len(supplies)):\n",
        "    min_cost_flow.SetNodeSupply(i, supplies[i])"
      ],
      "metadata": {
        "id": "Hh4S9CQdEHtN"
      },
      "execution_count": null,
      "outputs": []
    },
    {
      "cell_type": "code",
      "source": [
        "# Find the minimum cost flow\n",
        "start = time.time()\n",
        "status = min_cost_flow.Solve()\n",
        "end = time.time()\n",
        "\n",
        "print('Time:',end-start)"
      ],
      "metadata": {
        "id": "-iQYb3raEP2v"
      },
      "execution_count": null,
      "outputs": []
    },
    {
      "cell_type": "code",
      "source": [
        "# Get total and maximum waiting time\n",
        "\n",
        "max_wait = 0\n",
        "cnt = 0\n",
        "\n",
        "if status == min_cost_flow.OPTIMAL:\n",
        "    print('Total cost = ', min_cost_flow.OptimalCost())\n",
        "    for arc in range(min_cost_flow.NumArcs()):\n",
        "        # Can ignore arcs leading out of source or into sink.\n",
        "        if min_cost_flow.Tail(arc) != source and min_cost_flow.Head(\n",
        "                arc) != sink:\n",
        "\n",
        "            # Arcs in the solution have a flow value of 1. Their start and end nodes\n",
        "            # give an assignment of job to a timeslot.\n",
        "            if min_cost_flow.Flow(arc) > 0: \n",
        "              cnt+=1\n",
        "              if max_wait < min_cost_flow.UnitCost(arc):\n",
        "                max_wait = min_cost_flow.UnitCost(arc)\n",
        "    print('maximum waiting time:',max_wait)\n",
        "    print('num:',cnt)\n",
        "else:\n",
        "    print('There was an issue with the min cost flow input.')\n",
        "    print(f'Status: {status}')"
      ],
      "metadata": {
        "id": "tHxA-1mnEXLZ"
      },
      "execution_count": null,
      "outputs": []
    },
    {
      "cell_type": "markdown",
      "source": [
        "## LFJ and Greedy Scheduling algorithms"
      ],
      "metadata": {
        "id": "MypvCumoEt5r"
      }
    },
    {
      "cell_type": "code",
      "source": [
        "# Function to find the machine where the job gets the shortest waiting time\n",
        "\n",
        "def schedule_job(current_schedule, job_j):\n",
        "  shortest_waiting_time = 1000000\n",
        "  shortest_waiting_machine = []\n",
        "  shortest_waiting_interval = -1\n",
        "  shortest_segment = -1\n",
        "  shortest_machine = -1\n",
        "\n",
        "  segment_ind = 0\n",
        "\n",
        "  for segment in range(job_j['start_seg'],job_j['final_seg']+1):\n",
        "    #print('segment ',segment)\n",
        "    machine_ind = 0\n",
        "    \n",
        "    for machine in current_schedule[segment]:\n",
        "      #print('machine ',machine)\n",
        "      found = False\n",
        "      waiting_time = 1\n",
        "      i = job_j['rel_date']+segment_ind \n",
        "\n",
        "      while not found and i < len(machine) and waiting_time<shortest_waiting_time:\n",
        "        #print('i ',i, machine[i])\n",
        "        \n",
        "        if machine[i] == 0:\n",
        "          #print('Timeslot found')\n",
        "          found = True\n",
        "          shortest_waiting_time = waiting_time\n",
        "          shortest_waiting_machine = machine\n",
        "          shortest_waiting_interval = i\n",
        "          shortest_segment = segment\n",
        "          shortest_machine = machine_ind\n",
        "\n",
        "        i+=1; waiting_time+=1\n",
        "        #print('WT:',waiting_time)\n",
        "      machine_ind+=1\n",
        "    segment_ind+=1\n",
        "\n",
        "\n",
        "  #print('Scheduled ',job_j,'on segment, machine',[shortest_segment,shortest_machine])\n",
        "  shortest_waiting_machine[shortest_waiting_interval] = shortest_waiting_time\n",
        "  job_j['pos_schedule'] = [shortest_segment,shortest_machine,shortest_waiting_interval] #segment ; machine ; timeslot\n",
        "  job_j['completion_time'] = shortest_waiting_time\n",
        "        \n",
        "  return current_schedule"
      ],
      "metadata": {
        "id": "m9yV2NGCFH5O"
      },
      "execution_count": 38,
      "outputs": []
    },
    {
      "cell_type": "code",
      "source": [
        "# Initialize the schedules\n",
        "\n",
        "schedules = {}\n",
        "\n",
        "for seg in range(len(segment_stations)):\n",
        "  schedules[seg]= np.array(np.zeros((segment_stations[seg],max_schedule_length))).astype(int)"
      ],
      "metadata": {
        "id": "acv_ie9UExYH"
      },
      "execution_count": 117,
      "outputs": []
    },
    {
      "cell_type": "code",
      "source": [
        "# Set the number of machines that are available for a job\n",
        "\n",
        "for t in trips:\n",
        "  machines_t=0\n",
        "  for s in range(trips[t]['start_seg'],trips[t]['final_seg']+1):\n",
        "    machines_t += segment_stations[s]\n",
        "  trips[t]['machine_count'] = machines_t"
      ],
      "metadata": {
        "id": "wtAf0jC1FB3t"
      },
      "execution_count": 118,
      "outputs": []
    },
    {
      "cell_type": "code",
      "source": [
        "# Get all the unique sizes of the eligibility sets (number of machines that can process a job)\n",
        "\n",
        "unique_machine_count = []\n",
        "\n",
        "for t in trips:\n",
        "  if trips[t]['machine_count'] not in unique_machine_count: unique_machine_count.append(trips[t]['machine_count'])\n",
        "\n",
        "print(sorted(unique_machine_count))"
      ],
      "metadata": {
        "id": "0XcuVocxF3WB"
      },
      "execution_count": null,
      "outputs": []
    },
    {
      "cell_type": "code",
      "source": [
        "# Greedy scheduling\n",
        "\n",
        "greedy_total_completion_time=0\n",
        "greedy_max_completion_time=0\n",
        "\n",
        "for t in range(len(trips)):\n",
        "  schedule_job(schedules,trips[t])\n",
        "  greedy_total_completion_time+=trips[t]['completion_time']\n",
        "  if trips[t]['completion_time'] > greedy_max_completion_time: greedy_max_completion_time=trips[t]['completion_time']\n",
        "\n",
        "print('Total waiting time greedy',greedy_total_completion_time)\n",
        "print('Max waiting time',greedy_max_completion_time)"
      ],
      "metadata": {
        "id": "NbQ4f4vJFEMn"
      },
      "execution_count": null,
      "outputs": []
    },
    {
      "cell_type": "code",
      "source": [
        "# LFJ scheduling \n",
        "\n",
        "lfj_total_completion_time = 0\n",
        "lfj_max_completion_time = 0\n",
        "\n",
        "start=time.time()\n",
        "\n",
        "for f in sorted(unique_machine_count):\n",
        "  #print(f)\n",
        "  for p in trips:\n",
        "    if trips[p]['machine_count']==f:\n",
        "      schedules = schedule_job(schedules,trips[p])\n",
        "      lfj_total_completion_time+=trips[p]['completion_time']\n",
        "      if trips[p]['completion_time'] > lfj_max_completion_time: lfj_max_completion_time=trips[p]['completion_time']\n",
        "\n",
        "end=time.time()\n",
        "\n",
        "print('TIME:',end-start)\n",
        "print('Total waiting time LFJ',lfj_total_completion_time)\n",
        "print('Max waiting time LFJ',lfj_max_completion_time)"
      ],
      "metadata": {
        "id": "J8l8GHeQFlPy"
      },
      "execution_count": null,
      "outputs": []
    },
    {
      "cell_type": "markdown",
      "source": [
        "## Generate random trips"
      ],
      "metadata": {
        "id": "0Dh8GaVxt1wg"
      }
    },
    {
      "cell_type": "code",
      "source": [
        "random_trips = {}\n",
        "number_trips = 5000\n",
        "\n",
        "max_trip_length = 9 #10-1\n",
        "distinct_rel_dates = 50\n",
        "\n",
        "np.random.seed(16)"
      ],
      "metadata": {
        "id": "2lT0SgbjrbMz"
      },
      "execution_count": null,
      "outputs": []
    },
    {
      "cell_type": "code",
      "source": [
        "# First generate the lengths of the trips (normal distribution, between 1 and 20)\n",
        "\n",
        "mean_length = 0.5*max_trip_length\n",
        "std_length = 1.5\n",
        "\n",
        "lengths = np.random.normal(mean_length,std_length,number_trips).astype(int)\n",
        "\n",
        "# Make sure the generated trips fall within the bounds of length 1 to max-length\n",
        "for l in range(len(lengths)):\n",
        "  if lengths[l] < 1: \n",
        "    lengths[l] = 1\n",
        "  if lengths[l] >max_trip_length: \n",
        "    lengths[l] =max_trip_length"
      ],
      "metadata": {
        "id": "ThoZBP5nGmlb"
      },
      "execution_count": null,
      "outputs": []
    },
    {
      "cell_type": "code",
      "source": [
        "# Second generate the start point of the trip (uniform)\n",
        "\n",
        "for i in range(number_trips):\n",
        "  random_trips[i] = {}\n",
        "  random_trips[i]['length'] = lengths[i]\n",
        "  start = np.random.default_rng().integers(max_trip_length+1-lengths[i])\n",
        "  random_trips[i]['start_seg'] = start\n",
        "  random_trips[i]['final_seg'] = start+lengths[i]\n",
        "  if start+lengths[i]-1 > max_trip_length: print(start, lengths[i])\n"
      ],
      "metadata": {
        "id": "JCSkY6UBrQBP"
      },
      "execution_count": null,
      "outputs": []
    },
    {
      "cell_type": "code",
      "source": [
        "# Third generate the release date of the trip\n",
        "\n",
        "for r in random_trips:\n",
        "  random_trips[r]['rel_date'] = np.random.default_rng().integers(distinct_rel_dates)"
      ],
      "metadata": {
        "id": "J7QOomZbrXsZ"
      },
      "execution_count": null,
      "outputs": []
    },
    {
      "cell_type": "code",
      "source": [
        "trips=random_trips"
      ],
      "metadata": {
        "id": "QdXomYO4yRUy"
      },
      "execution_count": null,
      "outputs": []
    }
  ]
}